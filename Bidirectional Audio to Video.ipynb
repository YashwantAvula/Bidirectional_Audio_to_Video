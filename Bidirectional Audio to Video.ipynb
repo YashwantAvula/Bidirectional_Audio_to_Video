{
 "cells": [
  {
   "cell_type": "code",
   "execution_count": 1,
   "id": "f8d869a4",
   "metadata": {},
   "outputs": [
    {
     "name": "stdout",
     "output_type": "stream",
     "text": [
      "Requirement already satisfied: numpy in /Library/Frameworks/Python.framework/Versions/3.12/lib/python3.12/site-packages (1.26.4)\n",
      "Requirement already satisfied: scipy in /Library/Frameworks/Python.framework/Versions/3.12/lib/python3.12/site-packages (1.14.1)\n",
      "Collecting opencv-python\n",
      "  Downloading opencv_python-4.11.0.86-cp37-abi3-macosx_13_0_arm64.whl.metadata (20 kB)\n",
      "Requirement already satisfied: tqdm in /Library/Frameworks/Python.framework/Versions/3.12/lib/python3.12/site-packages (4.67.1)\n",
      "Downloading opencv_python-4.11.0.86-cp37-abi3-macosx_13_0_arm64.whl (37.3 MB)\n",
      "\u001b[2K   \u001b[90m━━━━━━━━━━━━━━━━━━━━━━━━━━━━━━━━━━━━━━━━\u001b[0m \u001b[32m37.3/37.3 MB\u001b[0m \u001b[31m10.4 MB/s\u001b[0m eta \u001b[36m0:00:00\u001b[0ma \u001b[36m0:00:01\u001b[0m\n",
      "\u001b[?25hInstalling collected packages: opencv-python\n",
      "Successfully installed opencv-python-4.11.0.86\n",
      "Note: you may need to restart the kernel to use updated packages.\n"
     ]
    }
   ],
   "source": [
    "pip install numpy scipy opencv-python tqdm"
   ]
  },
  {
   "cell_type": "code",
   "execution_count": 5,
   "id": "4b826a34",
   "metadata": {},
   "outputs": [
    {
     "name": "stdout",
     "output_type": "stream",
     "text": [
      "[INFO] Loading audio...\n",
      "[INFO] Computing spectrogram...\n",
      "[INFO] Generating frames...\n"
     ]
    },
    {
     "name": "stderr",
     "output_type": "stream",
     "text": [
      "100%|██████████| 339/339 [00:00<00:00, 649.08it/s]\n"
     ]
    },
    {
     "name": "stdout",
     "output_type": "stream",
     "text": [
      "[INFO] Writing video (339 frames @ 1.72 fps)...\n",
      "[DONE] Saved video to: /Users/yashavula/Desktop/Helios/Code/Helios V2/test_1_audio_visualizer.mp4\n"
     ]
    }
   ],
   "source": [
    "import os\n",
    "import numpy as np\n",
    "import cv2\n",
    "from scipy.io import wavfile\n",
    "from scipy.signal import stft\n",
    "from tqdm import tqdm\n",
    "\n",
    "# === CONFIGURATION ===\n",
    "AUDIO_FILE = '/Users/yashavula/Downloads/More More More.wav'     # Replace with your audio file path\n",
    "OUTPUT_VIDEO = '/Users/yashavula/Desktop/Helios/Code/Helios V2/test_1_audio_visualizer.mp4'    # Output video file name\n",
    "FRAME_DIR = '/Users/yashavula/Desktop/Helios/Code/Helios V2/frames'                     # Temp folder for saving frames\n",
    "FRAME_HEIGHT, FRAME_WIDTH = 256, 256     # Size of each frame\n",
    "N_FFT = 1024                             # FFT window size\n",
    "HOP_LENGTH = 512                         # Hop length for STFT\n",
    "FRAME_DURATION = 50                      # Number of STFT time slices per frame (~controls fps)\n",
    "\n",
    "# === LOAD AUDIO ===\n",
    "print(\"[INFO] Loading audio...\")\n",
    "sr, y = wavfile.read(AUDIO_FILE)\n",
    "if y.ndim > 1:\n",
    "    y = y.mean(axis=1)  # Convert to mono if stereo\n",
    "\n",
    "# === COMPUTE STFT ===\n",
    "print(\"[INFO] Computing spectrogram...\")\n",
    "_, _, Zxx = stft(y, fs=sr, nperseg=N_FFT, noverlap=N_FFT - HOP_LENGTH)\n",
    "S_db = 20 * np.log10(np.abs(Zxx) + 1e-6)\n",
    "\n",
    "# === NORMALIZE FOR VISUALIZATION ===\n",
    "S_db_norm = 255 * (S_db - S_db.min()) / (S_db.max() - S_db.min())\n",
    "S_db_norm = S_db_norm.astype(np.uint8)\n",
    "\n",
    "# === GENERATE FRAMES ===\n",
    "os.makedirs(FRAME_DIR, exist_ok=True)\n",
    "frames = []\n",
    "print(\"[INFO] Generating frames...\")\n",
    "for i in tqdm(range(0, S_db_norm.shape[1] - FRAME_DURATION, FRAME_DURATION)):\n",
    "    slice_ = S_db_norm[:, i:i + FRAME_DURATION]\n",
    "    resized = cv2.resize(slice_, (FRAME_WIDTH, FRAME_HEIGHT))\n",
    "    colored = cv2.applyColorMap(resized, cv2.COLORMAP_MAGMA)\n",
    "    frame_path = os.path.join(FRAME_DIR, f\"frame_{i:05d}.png\")\n",
    "    cv2.imwrite(frame_path, colored)\n",
    "    frames.append(colored)\n",
    "\n",
    "# === CREATE VIDEO ===\n",
    "fps = sr / HOP_LENGTH / FRAME_DURATION\n",
    "fourcc = cv2.VideoWriter_fourcc(*'mp4v')\n",
    "video = cv2.VideoWriter(OUTPUT_VIDEO, fourcc, fps, (FRAME_WIDTH, FRAME_HEIGHT))\n",
    "print(f\"[INFO] Writing video ({len(frames)} frames @ {fps:.2f} fps)...\")\n",
    "for f in frames:\n",
    "    video.write(f)\n",
    "video.release()\n",
    "\n",
    "print(f\"[DONE] Saved video to: {OUTPUT_VIDEO}\")"
   ]
  },
  {
   "cell_type": "code",
   "execution_count": 8,
   "id": "fe38a6ff",
   "metadata": {},
   "outputs": [
    {
     "name": "stderr",
     "output_type": "stream",
     "text": [
      "100%|██████████| 339/339 [00:00<00:00, 23403.33it/s]"
     ]
    },
    {
     "name": "stdout",
     "output_type": "stream",
     "text": [
      "[DONE] Encoded magnitude to stft_magnitude.mp4, phase to stft_phase.mp4\n"
     ]
    },
    {
     "name": "stderr",
     "output_type": "stream",
     "text": [
      "\n"
     ]
    }
   ],
   "source": [
    "import os\n",
    "import numpy as np\n",
    "import cv2\n",
    "from scipy.io import wavfile\n",
    "from scipy.signal import stft\n",
    "from tqdm import tqdm\n",
    "\n",
    "AUDIO_FILE = '/Users/yashavula/Downloads/More More More.wav'\n",
    "FRAME_DIR = '/Users/yashavula/Desktop/Helios/Code/Helios V2/frames'\n",
    "MAG_VIDEO = \"stft_magnitude.mp4\"\n",
    "PHASE_VIDEO = \"stft_phase.mp4\"\n",
    "\n",
    "N_FFT = 1024\n",
    "HOP = 512\n",
    "FRAME_HEIGHT, FRAME_WIDTH = 256, 256\n",
    "FRAME_DURATION = 50  # STFT slices per video frame\n",
    "\n",
    "# Load audio\n",
    "sr, y = wavfile.read(AUDIO_FILE)\n",
    "if y.ndim > 1:\n",
    "    y = y.mean(axis=1)\n",
    "\n",
    "# Compute STFT\n",
    "_, _, Zxx = stft(y, fs=sr, nperseg=N_FFT, noverlap=N_FFT - HOP)\n",
    "magnitude = np.abs(Zxx)\n",
    "phase = np.angle(Zxx)\n",
    "\n",
    "# Normalize\n",
    "mag_norm = 255 * (magnitude - magnitude.min()) / (magnitude.max() - magnitude.min())\n",
    "phase_norm = 255 * (phase + np.pi) / (2 * np.pi)\n",
    "\n",
    "mag_norm, phase_norm = mag_norm.astype(np.uint8), phase_norm.astype(np.uint8)\n",
    "\n",
    "# Write frames\n",
    "os.makedirs(FRAME_DIR, exist_ok=True)\n",
    "mag_frames, phase_frames = [], []\n",
    "\n",
    "for i in tqdm(range(0, mag_norm.shape[1] - FRAME_DURATION, FRAME_DURATION)):\n",
    "    mag_chunk = mag_norm[:, i:i + FRAME_DURATION]\n",
    "    phase_chunk = phase_norm[:, i:i + FRAME_DURATION]\n",
    "\n",
    "    mag_resized = cv2.resize(mag_chunk, (FRAME_WIDTH, FRAME_HEIGHT))\n",
    "    phase_resized = cv2.resize(phase_chunk, (FRAME_WIDTH, FRAME_HEIGHT))\n",
    "\n",
    "    mag_frames.append(mag_resized)\n",
    "    phase_frames.append(phase_resized)\n",
    "\n",
    "# Write videos\n",
    "fps = sr / HOP / FRAME_DURATION\n",
    "fourcc = cv2.VideoWriter_fourcc(*'mp4v')\n",
    "mag_writer = cv2.VideoWriter(MAG_VIDEO, fourcc, fps, (FRAME_WIDTH, FRAME_HEIGHT), isColor=False)\n",
    "phase_writer = cv2.VideoWriter(PHASE_VIDEO, fourcc, fps, (FRAME_WIDTH, FRAME_HEIGHT), isColor=False)\n",
    "\n",
    "for m, p in zip(mag_frames, phase_frames):\n",
    "    mag_writer.write(m)\n",
    "    phase_writer.write(p)\n",
    "\n",
    "mag_writer.release()\n",
    "phase_writer.release()\n",
    "print(f\"[DONE] Encoded magnitude to {MAG_VIDEO}, phase to {PHASE_VIDEO}\")"
   ]
  },
  {
   "cell_type": "code",
   "execution_count": 9,
   "id": "012c13b3",
   "metadata": {},
   "outputs": [
    {
     "name": "stderr",
     "output_type": "stream",
     "text": [
      "OpenCV: Couldn't read video stream from file \"stft_magnitude.mp4\"\n"
     ]
    },
    {
     "ename": "ValueError",
     "evalue": "need at least one array to concatenate",
     "output_type": "error",
     "traceback": [
      "\u001b[0;31m---------------------------------------------------------------------------\u001b[0m",
      "\u001b[0;31mValueError\u001b[0m                                Traceback (most recent call last)",
      "Cell \u001b[0;32mIn[9], line 30\u001b[0m\n\u001b[1;32m     27\u001b[0m     \u001b[38;5;28;01mreturn\u001b[39;00m np\u001b[38;5;241m.\u001b[39mconcatenate(frames, axis\u001b[38;5;241m=\u001b[39m\u001b[38;5;241m1\u001b[39m)\n\u001b[1;32m     29\u001b[0m \u001b[38;5;66;03m# Load videos\u001b[39;00m\n\u001b[0;32m---> 30\u001b[0m mag_stack \u001b[38;5;241m=\u001b[39m \u001b[43mload_video_frames\u001b[49m\u001b[43m(\u001b[49m\u001b[43mMAG_VIDEO\u001b[49m\u001b[43m)\u001b[49m\n\u001b[1;32m     31\u001b[0m phase_stack \u001b[38;5;241m=\u001b[39m load_video_frames(PHASE_VIDEO)\n\u001b[1;32m     33\u001b[0m \u001b[38;5;66;03m# Denormalize\u001b[39;00m\n",
      "Cell \u001b[0;32mIn[9], line 27\u001b[0m, in \u001b[0;36mload_video_frames\u001b[0;34m(video_path)\u001b[0m\n\u001b[1;32m     25\u001b[0m     frames\u001b[38;5;241m.\u001b[39mappend(resized)\n\u001b[1;32m     26\u001b[0m cap\u001b[38;5;241m.\u001b[39mrelease()\n\u001b[0;32m---> 27\u001b[0m \u001b[38;5;28;01mreturn\u001b[39;00m \u001b[43mnp\u001b[49m\u001b[38;5;241;43m.\u001b[39;49m\u001b[43mconcatenate\u001b[49m\u001b[43m(\u001b[49m\u001b[43mframes\u001b[49m\u001b[43m,\u001b[49m\u001b[43m \u001b[49m\u001b[43maxis\u001b[49m\u001b[38;5;241;43m=\u001b[39;49m\u001b[38;5;241;43m1\u001b[39;49m\u001b[43m)\u001b[49m\n",
      "\u001b[0;31mValueError\u001b[0m: need at least one array to concatenate"
     ]
    }
   ],
   "source": [
    "import cv2\n",
    "import numpy as np\n",
    "from scipy.signal import istft\n",
    "from scipy.io.wavfile import write\n",
    "\n",
    "MAG_VIDEO = \"stft_magnitude.mp4\"\n",
    "PHASE_VIDEO = \"stft_phase.mp4\"\n",
    "RECON_AUDIO = \"reconstructed_audio.wav\"\n",
    "\n",
    "N_FFT = 1024\n",
    "HOP = 512\n",
    "FRAME_DURATION = 50\n",
    "FRAME_HEIGHT, FRAME_WIDTH = 256, 256\n",
    "SR = 44100  # Make sure this matches original\n",
    "\n",
    "def load_video_frames(video_path):\n",
    "    cap = cv2.VideoCapture(video_path)\n",
    "    frames = []\n",
    "    while True:\n",
    "        ret, frame = cap.read()\n",
    "        if not ret:\n",
    "            break\n",
    "        gray = cv2.cvtColor(frame, cv2.COLOR_BGR2GRAY)\n",
    "        resized = cv2.resize(gray, (FRAME_DURATION, N_FFT // 2 + 1))\n",
    "        frames.append(resized)\n",
    "    cap.release()\n",
    "    return np.concatenate(frames, axis=1)\n",
    "\n",
    "# Load videos\n",
    "mag_stack = load_video_frames(MAG_VIDEO)\n",
    "phase_stack = load_video_frames(PHASE_VIDEO)\n",
    "\n",
    "# Denormalize\n",
    "mag = (mag_stack / 255.0) * 1.0  # use max=1 since STFT was log-scaled\n",
    "phase = (phase_stack / 255.0) * (2 * np.pi) - np.pi\n",
    "\n",
    "# Reconstruct STFT\n",
    "Zxx = mag * np.exp(1j * phase)\n",
    "_, y = istft(Zxx, fs=SR, nperseg=N_FFT, noverlap=N_FFT - HOP)\n",
    "\n",
    "# Save\n",
    "write(RECON_AUDIO, SR, y.astype(np.float32))\n",
    "print(f\"[DONE] Reconstructed audio saved to {RECON_AUDIO}\")"
   ]
  }
 ],
 "metadata": {
  "kernelspec": {
   "display_name": "Python 3",
   "language": "python",
   "name": "python3"
  },
  "language_info": {
   "codemirror_mode": {
    "name": "ipython",
    "version": 3
   },
   "file_extension": ".py",
   "mimetype": "text/x-python",
   "name": "python",
   "nbconvert_exporter": "python",
   "pygments_lexer": "ipython3",
   "version": "3.12.3"
  }
 },
 "nbformat": 4,
 "nbformat_minor": 5
}
